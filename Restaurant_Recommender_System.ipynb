{
  "nbformat": 4,
  "nbformat_minor": 0,
  "metadata": {
    "kernelspec": {
      "display_name": "Python 3",
      "language": "python",
      "name": "python3"
    },
    "language_info": {
      "codemirror_mode": {
        "name": "ipython",
        "version": 3
      },
      "file_extension": ".py",
      "mimetype": "text/x-python",
      "name": "python",
      "nbconvert_exporter": "python",
      "pygments_lexer": "ipython3",
      "version": "3.8.3"
    },
    "colab": {
      "name": "Restaurant Recommender System.ipynb",
      "provenance": []
    }
  },
  "cells": [
    {
      "cell_type": "code",
      "metadata": {
        "id": "fgNqJ386OswO"
      },
      "source": [
        "import numpy as np\n",
        "import pandas as pd\n",
        "import seaborn as sns\n",
        "import matplotlib.pyplot as plt\n",
        "from sklearn.linear_model import LogisticRegression\n",
        "from sklearn.linear_model import LinearRegression\n",
        "from sklearn.model_selection import train_test_split\n",
        "from sklearn.metrics import classification_report\n",
        "from sklearn.metrics import confusion_matrix\n",
        "from sklearn.metrics import r2_score\n",
        "import warnings\n",
        "warnings.filterwarnings('always')\n",
        "warnings.filterwarnings('ignore')\n",
        "import re\n",
        "from nltk.corpus import stopwords\n",
        "from sklearn.metrics.pairwise import linear_kernel\n",
        "from sklearn.feature_extraction.text import CountVectorizer\n",
        "from sklearn.feature_extraction.text import TfidfVectorizer"
      ],
      "execution_count": null,
      "outputs": []
    },
    {
      "cell_type": "code",
      "metadata": {
        "scrolled": true,
        "id": "wSaNeR1XOswV"
      },
      "source": [
        "mylist = []\n",
        "\n",
        "for chunk in  pd.read_csv('zomato.csv', chunksize=2000):\n",
        "    mylist.append(chunk)\n",
        "\n",
        "zomato_real = pd.concat(mylist, axis= 0)\n",
        "del mylist"
      ],
      "execution_count": null,
      "outputs": []
    },
    {
      "cell_type": "code",
      "metadata": {
        "id": "ZT0caXRfOswW"
      },
      "source": [
        "zomato_real = pd.DataFrame()\n",
        "for chunk in pd.read_csv('zomato.csv', chunksize=1000):\n",
        "    zomato_real = pd.concat([zomato_real, chunk], ignore_index=True)"
      ],
      "execution_count": null,
      "outputs": []
    },
    {
      "cell_type": "code",
      "metadata": {
        "id": "R5oto7bwOswX"
      },
      "source": [
        "zomato_real.head()"
      ],
      "execution_count": null,
      "outputs": []
    },
    {
      "cell_type": "code",
      "metadata": {
        "id": "OaN8Nzx8OswX"
      },
      "source": [
        "zomato=zomato_real.drop(['url','dish_liked','phone'],axis=1)"
      ],
      "execution_count": null,
      "outputs": []
    },
    {
      "cell_type": "code",
      "metadata": {
        "id": "vli2VNdDOswX"
      },
      "source": [
        "zomato.duplicated().sum()"
      ],
      "execution_count": null,
      "outputs": []
    },
    {
      "cell_type": "code",
      "metadata": {
        "id": "G0rrpuvcOswY"
      },
      "source": [
        "zomato.drop_duplicates(inplace=True)"
      ],
      "execution_count": null,
      "outputs": []
    },
    {
      "cell_type": "code",
      "metadata": {
        "id": "pgC0ku1kOswY"
      },
      "source": [
        "zomato.head()"
      ],
      "execution_count": null,
      "outputs": []
    },
    {
      "cell_type": "code",
      "metadata": {
        "id": "jzkRjFVdOswY"
      },
      "source": [
        "zomato.isnull().sum()"
      ],
      "execution_count": null,
      "outputs": []
    },
    {
      "cell_type": "code",
      "metadata": {
        "id": "TRc6GM4mOswY"
      },
      "source": [
        "zomato.dropna(inplace=True)"
      ],
      "execution_count": null,
      "outputs": []
    },
    {
      "cell_type": "code",
      "metadata": {
        "id": "jXzsg3y6OswZ"
      },
      "source": [
        "zomato = zomato.rename(columns={'approx_cost(for two people)':'cost','listed_in(type)':'type', 'listed_in(city)':'city'})"
      ],
      "execution_count": null,
      "outputs": []
    },
    {
      "cell_type": "code",
      "metadata": {
        "id": "y42EqhqmOswZ"
      },
      "source": [
        "zomato.head()"
      ],
      "execution_count": null,
      "outputs": []
    },
    {
      "cell_type": "code",
      "metadata": {
        "id": "nPjNTeCROswZ"
      },
      "source": [
        "zomato['cost'] = zomato['cost'].astype(str)"
      ],
      "execution_count": null,
      "outputs": []
    },
    {
      "cell_type": "code",
      "metadata": {
        "id": "M1MwqpSFOswZ"
      },
      "source": [
        "zomato['cost'] = zomato['cost'].apply(lambda x: x.replace(',','.'))"
      ],
      "execution_count": null,
      "outputs": []
    },
    {
      "cell_type": "code",
      "metadata": {
        "id": "r4fehvrgOswZ"
      },
      "source": [
        "zomato['cost'] = zomato['cost'].astype(float)"
      ],
      "execution_count": null,
      "outputs": []
    },
    {
      "cell_type": "code",
      "metadata": {
        "id": "l19azcjrOswa"
      },
      "source": [
        "zomato = zomato.loc[zomato.rate !='NEW']\n",
        "zomato = zomato.loc[zomato.rate !='-'].reset_index(drop=True)"
      ],
      "execution_count": null,
      "outputs": []
    },
    {
      "cell_type": "code",
      "metadata": {
        "id": "zFlPeCz6Oswa"
      },
      "source": [
        "zomato.head()"
      ],
      "execution_count": null,
      "outputs": []
    },
    {
      "cell_type": "code",
      "metadata": {
        "id": "qtZ4hdRAOswa"
      },
      "source": [
        "remove_slash = lambda x: x.replace('/5','') \n",
        "zomato.rate = zomato.rate.apply(remove_slash).str.strip().astype('float')"
      ],
      "execution_count": null,
      "outputs": []
    },
    {
      "cell_type": "code",
      "metadata": {
        "id": "lYDuXgx0Oswa"
      },
      "source": [
        "zomato.name = zomato.name.apply(lambda x:x.title())"
      ],
      "execution_count": null,
      "outputs": []
    },
    {
      "cell_type": "code",
      "metadata": {
        "id": "NrfZp0V2Oswb"
      },
      "source": [
        "zomato.head()"
      ],
      "execution_count": null,
      "outputs": []
    },
    {
      "cell_type": "code",
      "metadata": {
        "id": "nj6Oy3-dOswb"
      },
      "source": [
        "zomato.online_order = zomato.online_order.replace('Yes',True)\n",
        "zomato.online_order = zomato.online_order.replace('No',False)"
      ],
      "execution_count": null,
      "outputs": []
    },
    {
      "cell_type": "code",
      "metadata": {
        "id": "f-LYgkFPOswb"
      },
      "source": [
        "zomato.info()"
      ],
      "execution_count": null,
      "outputs": []
    },
    {
      "cell_type": "code",
      "metadata": {
        "id": "_ynenKOAOswb"
      },
      "source": [
        "list(zomato.name.unique())"
      ],
      "execution_count": null,
      "outputs": []
    },
    {
      "cell_type": "code",
      "metadata": {
        "id": "1uPTYJ1HOswb"
      },
      "source": [
        "zomato.shape"
      ],
      "execution_count": null,
      "outputs": []
    },
    {
      "cell_type": "code",
      "metadata": {
        "id": "ooowGEsqOswb"
      },
      "source": [
        "zomato.name.value_counts()"
      ],
      "execution_count": null,
      "outputs": []
    },
    {
      "cell_type": "code",
      "metadata": {
        "id": "XyMGD_yeOswc"
      },
      "source": [
        "zomato.columns"
      ],
      "execution_count": null,
      "outputs": []
    },
    {
      "cell_type": "code",
      "metadata": {
        "id": "e54nUHFwOswc"
      },
      "source": [
        "restaurants = list(zomato['name'].unique())\n",
        "zomato['mean_ratings'] = 0\n"
      ],
      "execution_count": null,
      "outputs": []
    },
    {
      "cell_type": "code",
      "metadata": {
        "id": "HiACD-eXOswc"
      },
      "source": [
        "for i in range(len(restaurants)):\n",
        "    zomato['mean_ratings'][zomato['name']==restaurants[i]] = zomato['rate'][zomato['name']==restaurants[i]].mean()"
      ],
      "execution_count": null,
      "outputs": []
    },
    {
      "cell_type": "code",
      "metadata": {
        "id": "Q61iMb1QOswc"
      },
      "source": [
        "zomato.head()"
      ],
      "execution_count": null,
      "outputs": []
    },
    {
      "cell_type": "code",
      "metadata": {
        "id": "6SFiiTKyOswc"
      },
      "source": [
        "from sklearn.preprocessing import MinMaxScaler\n",
        "scaler = MinMaxScaler(feature_range=(1,5))\n",
        "zomato[['mean_ratings']] = scaler.fit_transform(zomato[['mean_ratings']]).round(2)"
      ],
      "execution_count": null,
      "outputs": []
    },
    {
      "cell_type": "code",
      "metadata": {
        "id": "lbgtiScGOswd"
      },
      "source": [
        "zomato.head()"
      ],
      "execution_count": null,
      "outputs": []
    },
    {
      "cell_type": "code",
      "metadata": {
        "id": "ARD38xojOswd"
      },
      "source": [
        "zomato[\"reviews_list\"] = zomato[\"reviews_list\"].str.lower()"
      ],
      "execution_count": null,
      "outputs": []
    },
    {
      "cell_type": "code",
      "metadata": {
        "id": "N1q_Z3a2Oswd"
      },
      "source": [
        "import string\n",
        "punc_to_remove = string.punctuation"
      ],
      "execution_count": null,
      "outputs": []
    },
    {
      "cell_type": "code",
      "metadata": {
        "id": "k9aKSl0yOswd"
      },
      "source": [
        "def remove_punctuation(text):\n",
        "    return text.translate(str.maketrans('','',punc_to_remove))"
      ],
      "execution_count": null,
      "outputs": []
    },
    {
      "cell_type": "code",
      "metadata": {
        "id": "gN_KcQ7pOswd"
      },
      "source": [
        "zomato['reviews_list'] = zomato['reviews_list'].apply(remove_punctuation)"
      ],
      "execution_count": null,
      "outputs": []
    },
    {
      "cell_type": "code",
      "metadata": {
        "id": "YWhd8apcOswd"
      },
      "source": [
        "zomato.head()"
      ],
      "execution_count": null,
      "outputs": []
    },
    {
      "cell_type": "code",
      "metadata": {
        "id": "WZ_5usAAOswe"
      },
      "source": [
        "from nltk.corpus import stopwords\n",
        "import nltk\n",
        "nltk.download('stopwords')\n",
        "stopwords = set(stopwords.words('english'))"
      ],
      "execution_count": null,
      "outputs": []
    },
    {
      "cell_type": "code",
      "metadata": {
        "id": "O2va2esbOswe"
      },
      "source": [
        "len(stopwords)"
      ],
      "execution_count": null,
      "outputs": []
    },
    {
      "cell_type": "code",
      "metadata": {
        "id": "4klRhYrUOswe"
      },
      "source": [
        "def remove_stopwords(text):\n",
        "    return \" \".join([word for word in str(text).split() if word not in stopwords])\n",
        "    "
      ],
      "execution_count": null,
      "outputs": []
    },
    {
      "cell_type": "code",
      "metadata": {
        "id": "9-VoABjROswe"
      },
      "source": [
        "zomato['reviews_list'] = zomato['reviews_list'].apply(remove_stopwords)"
      ],
      "execution_count": null,
      "outputs": []
    },
    {
      "cell_type": "code",
      "metadata": {
        "id": "z8IWZb1EOswe"
      },
      "source": [
        "zomato.head()"
      ],
      "execution_count": null,
      "outputs": []
    },
    {
      "cell_type": "code",
      "metadata": {
        "id": "HYbIPG4yOswe"
      },
      "source": [
        "def remove_urls(text):\n",
        "    url_pattern = re.compile(r'https?://\\S+|www\\.\\S+')\n",
        "    return url_pattern.sub(r'', text)"
      ],
      "execution_count": null,
      "outputs": []
    },
    {
      "cell_type": "code",
      "metadata": {
        "id": "3a6Q6jmfOswf"
      },
      "source": [
        "zomato['reviews_list'] = zomato['reviews_list'].apply(remove_urls)"
      ],
      "execution_count": null,
      "outputs": []
    },
    {
      "cell_type": "code",
      "metadata": {
        "id": "QCgHkYXdOswf"
      },
      "source": [
        "restaurant_names = list(zomato['name'].unique())\n",
        "def get_top_words(column, top_nu_of_words, nu_of_word):\n",
        "    vec = CountVectorizer(ngram_range= nu_of_word, stop_words='english')\n",
        "    bag_of_words = vec.fit_transform(column)\n",
        "    sum_words = bag_of_words.sum(axis=0)\n",
        "    words_freq = [(word, sum_words[0, idx]) for word, idx in vec.vocabulary_.items()]\n",
        "    words_freq =sorted(words_freq, key = lambda x: x[1], reverse=True)\n",
        "    return words_freq[:top_nu_of_words]"
      ],
      "execution_count": null,
      "outputs": []
    },
    {
      "cell_type": "code",
      "metadata": {
        "id": "iG9cxtAeOswf"
      },
      "source": [
        "zomato=zomato.drop(['address','rest_type', 'type', 'menu_item', 'votes'],axis=1)"
      ],
      "execution_count": null,
      "outputs": []
    },
    {
      "cell_type": "code",
      "metadata": {
        "id": "H6ODThaiOswf"
      },
      "source": [
        "df_percent = zomato.sample(frac=1)"
      ],
      "execution_count": null,
      "outputs": []
    },
    {
      "cell_type": "code",
      "metadata": {
        "id": "huosbdgaOswf"
      },
      "source": [
        "df_percent"
      ],
      "execution_count": null,
      "outputs": []
    },
    {
      "cell_type": "code",
      "metadata": {
        "id": "zDfq3M0xOswg"
      },
      "source": [
        "df_percent.set_index('name', inplace=True)"
      ],
      "execution_count": null,
      "outputs": []
    },
    {
      "cell_type": "code",
      "metadata": {
        "id": "k3zMqqlSOswg"
      },
      "source": [
        "indices = pd.Series(df_percent.index)"
      ],
      "execution_count": null,
      "outputs": []
    },
    {
      "cell_type": "code",
      "metadata": {
        "id": "OaXmT3MWOswg"
      },
      "source": [
        "indices"
      ],
      "execution_count": null,
      "outputs": []
    },
    {
      "cell_type": "code",
      "metadata": {
        "id": "Ew7GiZRoOswg"
      },
      "source": [
        "tfidf = TfidfVectorizer(ngram_range=(1,1), stop_words='english', min_df=0)\n",
        "tfidf_matrix = tfidf.fit_transform(df_percent['reviews_list'])\n",
        "# cosine_similarities = linear_kernel(tfidf_matrix, tfidf_matrix)"
      ],
      "execution_count": null,
      "outputs": []
    },
    {
      "cell_type": "code",
      "metadata": {
        "id": "wZzul3PSOswg"
      },
      "source": [
        "tfidf_matrix"
      ],
      "execution_count": null,
      "outputs": []
    },
    {
      "cell_type": "code",
      "metadata": {
        "id": "y5Q8mKMjOswg"
      },
      "source": [
        "np.multiply(tfidf_matrix, np.transpose(tfidf_matrix))"
      ],
      "execution_count": null,
      "outputs": []
    },
    {
      "cell_type": "code",
      "metadata": {
        "id": "vPWMaBRBOswh"
      },
      "source": [
        "cosine_similarities = linear_kernel(tfidf_matrix, tfidf_matrix)"
      ],
      "execution_count": null,
      "outputs": []
    },
    {
      "cell_type": "code",
      "metadata": {
        "id": "XSpGnAUkOswh"
      },
      "source": [
        "tfidf_matrix.shape"
      ],
      "execution_count": null,
      "outputs": []
    },
    {
      "cell_type": "code",
      "metadata": {
        "id": "l7BzsNW9Oswh"
      },
      "source": [
        "\n",
        "def recommend(name, cosine_similarities = cosine_similarities):\n",
        "    \n",
        "    recommend_restaurant = []\n",
        "    \n",
        "    \n",
        "    idx = indices[indices == name].index[0]\n",
        "    \n",
        "    \n",
        "    score_series = pd.Series(cosine_similarities[idx]).sort_values(ascending=False)\n",
        "    \n",
        "   \n",
        "    top30_indexes = list(score_series.iloc[0:31].index)\n",
        "    \n",
        "   \n",
        "    for each in top30_indexes:\n",
        "        recommend_restaurant.append(list(df_percent.index)[each])\n",
        "    \n",
        " \n",
        "    df_new = pd.DataFrame(columns=['cuisines', 'mean_ratings', 'cost','location'])\n",
        "    \n",
        "   \n",
        "    for each in recommend_restaurant:\n",
        "        df_new = df_new.append(pd.DataFrame(df_percent[['cuisines','mean_ratings', 'cost','location']][df_percent.index == each].sample()))\n",
        "    \n",
        "    \n",
        "    df_new = df_new.drop_duplicates(subset=['cuisines','mean_ratings', 'cost','location'], keep=False)\n",
        "    df_new = df_new.sort_values(by='mean_ratings', ascending=False)\n",
        "    \n",
        "    print('TOP %s RESTAURANTS LIKE %s WITH SIMILAR REVIEWS: ' % (str(len(df_new)), name))\n",
        "    \n",
        "    return df_new"
      ],
      "execution_count": null,
      "outputs": []
    },
    {
      "cell_type": "code",
      "metadata": {
        "id": "T1mN5bU4Oswh"
      },
      "source": [
        "recommend('Shawarma Inc')"
      ],
      "execution_count": null,
      "outputs": []
    },
    {
      "cell_type": "code",
      "metadata": {
        "id": "QxG5FosJOswi"
      },
      "source": [
        "list(indices)"
      ],
      "execution_count": null,
      "outputs": []
    },
    {
      "cell_type": "code",
      "metadata": {
        "id": "NPTXdTmWOswi"
      },
      "source": [
        ""
      ],
      "execution_count": null,
      "outputs": []
    }
  ]
}